{
 "cells": [
  {
   "cell_type": "code",
   "execution_count": 1,
   "metadata": {},
   "outputs": [],
   "source": [
    "# Setup TESSDATA_PREFIX path (might be different process for windows, and path can be different according to device)\n",
    "# Run ` find /usr -name \"*.traineddata\" ` in terminal to find it in your device. \n",
    "# run `export TESSDATA_PREFIX=/usr/share/tesseract-ocr/5/tessdata` to run python file\n",
    "# No need for this if GPU is available, will be using easyOCR\n",
    "\n",
    "import os\n",
    "os.environ['TESSDATA_PREFIX'] = '/usr/share/tesseract-ocr/5/tessdata'"
   ]
  },
  {
   "cell_type": "code",
   "execution_count": 2,
   "metadata": {},
   "outputs": [],
   "source": [
    "from parsing_pieline import PdfParser\n",
    "from IPython.display import Markdown"
   ]
  },
  {
   "cell_type": "code",
   "execution_count": 3,
   "metadata": {},
   "outputs": [
    {
     "name": "stderr",
     "output_type": "stream",
     "text": [
      "2025-01-06 12:56:21,354 - root - INFO - Parsed data/testdoc.pdf file's content with PyMuPDF in 0.01 seconds\n",
      "2025-01-06 12:56:21,367 - docling.document_converter - INFO - Going to convert document batch...\n"
     ]
    },
    {
     "name": "stderr",
     "output_type": "stream",
     "text": [
      "2025-01-06 12:56:22,321 - docling.utils.accelerator_utils - INFO - Accelerator device: 'cpu'\n",
      "2025-01-06 12:56:22,886 - docling.utils.accelerator_utils - INFO - Accelerator device: 'cpu'\n",
      "2025-01-06 12:56:27,252 - docling.pipeline.base_pipeline - INFO - Processing document testdoc.pdf\n",
      "2025-01-06 12:56:46,792 - docling.document_converter - INFO - Finished converting document testdoc.pdf in 25.44 sec.\n",
      "2025-01-06 12:56:46,871 - root - INFO - Parsed data/testdoc.pdf file's text structure with Docling in 25.52 seconds\n",
      "2025-01-06 12:56:47,044 - root - INFO - Splitted data/testdoc.pdf into 10 regions in 0.17 seconds\n"
     ]
    }
   ],
   "source": [
    "parser = PdfParser('data/testdoc.pdf')"
   ]
  },
  {
   "cell_type": "code",
   "execution_count": 4,
   "metadata": {},
   "outputs": [
    {
     "name": "stderr",
     "output_type": "stream",
     "text": [
      "2025-01-06 12:56:47,069 - docling.document_converter - INFO - Going to convert document batch...\n"
     ]
    },
    {
     "name": "stderr",
     "output_type": "stream",
     "text": [
      "2025-01-06 12:56:47,556 - docling.utils.accelerator_utils - INFO - Accelerator device: 'cpu'\n",
      "2025-01-06 12:56:47,980 - docling.utils.accelerator_utils - INFO - Accelerator device: 'cpu'\n",
      "2025-01-06 12:56:48,551 - docling.pipeline.base_pipeline - INFO - Processing document temp.pdf\n",
      "2025-01-06 12:56:50,714 - docling.document_converter - INFO - Finished converting document temp.pdf in 3.65 sec.\n",
      "2025-01-06 12:56:50,742 - docling.document_converter - INFO - Going to convert document batch...\n",
      "2025-01-06 12:56:51,173 - docling.utils.accelerator_utils - INFO - Accelerator device: 'cpu'\n",
      "2025-01-06 12:56:51,524 - docling.utils.accelerator_utils - INFO - Accelerator device: 'cpu'\n",
      "2025-01-06 12:56:52,119 - docling.pipeline.base_pipeline - INFO - Processing document temp.pdf\n",
      "2025-01-06 12:56:54,217 - docling.document_converter - INFO - Finished converting document temp.pdf in 3.48 sec.\n",
      "2025-01-06 12:56:54,253 - docling.document_converter - INFO - Going to convert document batch...\n",
      "2025-01-06 12:56:54,651 - docling.utils.accelerator_utils - INFO - Accelerator device: 'cpu'\n",
      "2025-01-06 12:56:55,361 - docling.utils.accelerator_utils - INFO - Accelerator device: 'cpu'\n",
      "2025-01-06 12:56:55,959 - docling.pipeline.base_pipeline - INFO - Processing document temp.pdf\n",
      "2025-01-06 12:57:01,835 - docling.document_converter - INFO - Finished converting document temp.pdf in 7.58 sec.\n",
      "2025-01-06 12:57:01,881 - docling.document_converter - INFO - Going to convert document batch...\n",
      "2025-01-06 12:57:02,288 - docling.utils.accelerator_utils - INFO - Accelerator device: 'cpu'\n",
      "2025-01-06 12:57:02,681 - docling.utils.accelerator_utils - INFO - Accelerator device: 'cpu'\n",
      "2025-01-06 12:57:03,312 - docling.pipeline.base_pipeline - INFO - Processing document temp.pdf\n",
      "2025-01-06 12:57:09,978 - docling.document_converter - INFO - Finished converting document temp.pdf in 8.10 sec.\n",
      "2025-01-06 12:57:10,037 - docling.document_converter - INFO - Going to convert document batch...\n",
      "2025-01-06 12:57:10,456 - docling.utils.accelerator_utils - INFO - Accelerator device: 'cpu'\n",
      "2025-01-06 12:57:10,830 - docling.utils.accelerator_utils - INFO - Accelerator device: 'cpu'\n",
      "2025-01-06 12:57:11,477 - docling.pipeline.base_pipeline - INFO - Processing document temp.pdf\n",
      "2025-01-06 12:57:16,079 - docling.document_converter - INFO - Finished converting document temp.pdf in 6.05 sec.\n",
      "2025-01-06 12:57:16,088 - root - INFO - Converted data/testdoc.pdf into markdown in 29.03 seconds\n",
      "2025-01-06 12:57:34,469 - root - INFO - Translated all nepali text in parsed markdown in 18.38 seconds\n"
     ]
    }
   ],
   "source": [
    "md = parser.to_markdown(save_as='Output/testdoc.md', translate_to_english=True)"
   ]
  },
  {
   "cell_type": "code",
   "execution_count": 5,
   "metadata": {},
   "outputs": [
    {
     "data": {
      "text/markdown": [
       "\n",
       "## THIS IS SOME HEADING\n",
       "\n",
       "This document provides an overview of creating a rich-text PDF with varied  content. The layout includes different heading sizes, layered lists, tables with  multiple row and column spans, and bilingual content (in both English and  Nepali).\n",
       "\n",
       "## 1. Heading1\n",
       "\n",
       "This is an example of a first-level heading. Below, we have a  multi-layered  list  with both ordered and unordered items\n",
       "\n",
       "- 1.1 Heading 1.1\n",
       "- - This is some list item\n",
       "- - This is another list item\n",
       "- 1.2 Heading 1.2\n",
       "- - This is some list item\n",
       "- - This is another list item\n",
       "\n",
       "This is text with background color As you can see\n",
       "\n",
       "## THIS IS NEXT HEADING\n",
       "\n",
       "               -       This document provides an overview of creating a rich text PDF with varied   .            ,    ,    content The layout includes different heading sizes layered lists tables with         ,       (       multiple row and column spans and bilingual content in both English and   ). Nepali\n",
       "\n",
       "## Purpose of the Document\n",
       "\n",
       "                         , The goal of this PDF is to demonstrate how to combine various content elements     ,  ,  ,    ,       .    such as headings lists tables and images into a structured document This PDF                   ,    will help users learn how to organize information effectively whether for     ,  ,      . technical manuals guides or educational materials\n",
       "\n",
       "<!-- image -->\n",
       "\n",
       "\n",
       "![Image](testdoc-images/picture_1_493_71.png)\n",
       "## Nepali section\n",
       "\n",
       "Understanding the process is important to achieve success. Only by following the instructions will the results be good. Understanding the process is important to achieve success. Only by following the instructions english word will the results be good. Understanding the process is important to achieve success. Only by following the instructions Test will the results be good. Understanding the process is important to achieve success. ACHD Only by following the instructions will the results be good. Understanding the process is important to achieve success. Apple-Pie Only by following the instructions will the results be good. Understanding the process is important to achieve success. Misspalled\n",
       "\n",
       "Nepal has been described as a very ancient land in various religious scriptures and Puranas. The mountain ranges and valleys here, which were formed about 130 million years ago, have been particularly attractive to animals that have come later. The remains of Ramapithecus hominids found in the Butwal region of western Nepal clearly indicate that human settlement in Nepal began more than 10 million years ago.\n",
       "\n",
       "Table 1: This is Nepali table\n",
       "\n",
       "| Crore                 | Made             |\n",
       "|---------------------|-----------------|\n",
       "| Following the instructions    | 1234            |\n",
       "| This table is a part. | This is english |\n",
       "| 12000, 12012        | Nepali             |\n",
       "\n",
       "The table below includes cells that span across multiple rows and columns.I hope  my parser can parse it accurately.\n",
       "The table below includes cells that span across multiple rows and columns.I hope  my parser can parse it accurately.\n",
       "\n",
       "Table 2: This is complex table\n",
       "\n",
       "| Table head1   | Table head 2   | Table head3   | Table head3   | Table head3   |\n",
       "|---------------|----------------|---------------|---------------|---------------|\n",
       "|               |                | Subead 1      | Subhead2      | Subhead3      |\n",
       "| Test 1        | Test 2         | Test 3        | Test 4        |               |\n",
       "|               | 100201         |               | Test 5        | Test 5        |\n",
       "|               | 100202         | 1.0201        | 1.765         | 1,676         |\n",
       "\n",
       "Below I have academic paper\n",
       "\n",
       "| This is      | Headin1            | Nepali   |   Nepali Thead   |\n",
       "|--------------|--------------------|-------|---------------|\n",
       "| academic     |                    |       |               |\n",
       "| I don’t know | This is really bad |       |               |\n",
       "\n",
       "3,0909\n",
       "\n",
       "Test table\n",
       "\n",
       "This is the content spanning through  Multiple rows and cols\n",
       "\n",
       "\n",
       "![Image](testdoc-images/picture_3_149_132.png)\n",
       "Figure 1: Random nountain image\n",
       "\n",
       "<!-- image -->\n",
       "|                | Full Name  Position                   |\n",
       "|----------------|---------------------------------------|\n",
       "|                | Bill Gates | Rounder Microantt | 1000 |\n",
       "|                | sleve Jobs  Founder Apple  $1200      |\n",
       "|                | Larry Page Founder Google $1100       |\n",
       "|                | Mark Zuckeberg Founder Facebook $1300 |\n",
       "| Total Expense: | Total Expense:                        |\n",
       "This above table is good\n",
       "\n",
       "test empty gap ……………………………………………………….Hahaha\n",
       "\n",
       "## NEPAL IS BEAUTIFUL.\n",
       "\n",
       "Nepal is a beautiful country located in South Asia, nestled between China to the north and India to the south. It is famous for its stunning Himalayas, including the world's highest peak, Sagarmatha (Mount Everest).  The rich culture and diverse landscapes make Nepal a unique destination for travelers. The capital, Kathmandu (Kathmandu), is a bustling city known for its historical landmarks and\n",
       "\n",
       "vibrant atmosphere. Nepal is also home to many festivals, such as Dashain (Dashain) and Tihar (Tihar), which are celebrated with great enthusiasm. The people of Nepal are warm and welcoming, and the country's natural beauty, combined with its cultural heritage, make it a remarkable place to visit.\n",
       "## Nepali Rwand\n",
       "\n",
       "Understanding the process is important to achieving success. Following the instructions will result in better ATA results. Understanding the process is important to achieving success. The results will be good only if the instructions are followed in English word. Understanding the process is important to achieving success. Only following Test instructions will result in wal. Understanding the process is important to achieving success. Only by following the ACHD guidelines will the results be good. Understanding the process is important to achieve success. Apple-Pie results will be good only if the instructions are followed. Understanding the process is important to achieving success. Misspalled\n",
       "\n",
       "Atid Gra and Pafrans to Nepal Hela found ancient SYA Dan Garara wy Reg $3 BIS IVHMNS become here Gad Jase and Papatyakas Tee come Viera! HPA fay Bla increased Ly Napalkar {Iara Gisela TONGUE FAG Hayle a Aes FANT Wilscla 4 FQeTayT Wage Fas Ie already know the facts]\n",
       "\n",
       "Toble 1: This i¢ F0Tet  hoble\n",
       "\n",
       "| ele banco                          |\n",
       "|-----------------------------------|\n",
       "| Following the settlements Tal. 2234          |\n",
       "| At the table | This is english |\n",
       "| 17000, 1201? [Nepali]                 |\n",
       "This document provides an overview of creating a rich-text PDF with varied content. The layout includes different heading sizes, layered lists, tables with multiple row and column spans, and bilingual content (in both English and Nepali).\n",
       "\n",
       "## 1. Heading]\n",
       "\n",
       "This is an example of a first-level heading. Below, we have a multi-layered nist with both ordered and whnordered items\n",
       "\n",
       "## 1.1 Heading 1.1\n",
       "\n",
       "- \\_ This is some list item\n",
       "- - This is another list item\n",
       "\n",
       "## 1.2 Heading 1.2\n",
       "\n",
       "- - This 15 some list item\n",
       "- - This is another list item\n",
       "\n",
       "hs 1s text with background color\n",
       "\n",
       "Oc wolcan see\n",
       "\n",
       "## THIS IS NEXT HEADING\n",
       "\n",
       "This document provides an overview of creating a rich-text PDF with variec content. The layout includes different heading sizes, layered lists, tables with multiple row and column spans, and bilingual content (in both English and Nepali).\n",
       "\n",
       "## Purpose of the Document\n",
       "\n",
       "The goal of this PDF is to demonstrate how to combine various content elements, such as headings, lists, tables, and images, into a structured document. This PDF will help users learn how to organize information effectively, whether for technical Manuals, guides, or eaucational materials,\n",
       "\n",
       "![Image](testdoc-images/picture-6_0_441_23.png)"
      ],
      "text/plain": [
       "<IPython.core.display.Markdown object>"
      ]
     },
     "execution_count": 5,
     "metadata": {},
     "output_type": "execute_result"
    }
   ],
   "source": [
    "Markdown(md)"
   ]
  }
 ],
 "metadata": {
  "kernelspec": {
   "display_name": "ss",
   "language": "python",
   "name": "python3"
  },
  "language_info": {
   "codemirror_mode": {
    "name": "ipython",
    "version": 3
   },
   "file_extension": ".py",
   "mimetype": "text/x-python",
   "name": "python",
   "nbconvert_exporter": "python",
   "pygments_lexer": "ipython3",
   "version": "3.12.4"
  }
 },
 "nbformat": 4,
 "nbformat_minor": 2
}
